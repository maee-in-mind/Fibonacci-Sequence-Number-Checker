{
 "cells": [
  {
   "cell_type": "code",
   "execution_count": 1,
   "metadata": {},
   "outputs": [
    {
     "name": "stdout",
     "output_type": "stream",
     "text": [
      "yes,It's a Fibonacci Sequence number\n"
     ]
    }
   ],
   "source": [
    "def fib_check(n):\n",
    "    a,b,c=0,1,1\n",
    "    if n==0 or n==1:\n",
    "        print(\"yes,It's a Fibonacci Sequence number\")\n",
    "    else:\n",
    "        while c<n:\n",
    "            c=a+b\n",
    "            a=b\n",
    "            b=c\n",
    "        if c==n:\n",
    "            print(\"yes,It's a Fibonacci Sequence number\")\n",
    "        else:\n",
    "            print(\"No, It is NOT a Fibonacci Sequence number\")\n",
    "\n",
    "# Lets Call the Function for check 144 \n",
    "fib_check(144)\n",
    "        "
   ]
  },
  {
   "cell_type": "code",
   "execution_count": null,
   "metadata": {},
   "outputs": [],
   "source": []
  }
 ],
 "metadata": {
  "kernelspec": {
   "display_name": "Python 3",
   "language": "python",
   "name": "python3"
  },
  "language_info": {
   "codemirror_mode": {
    "name": "ipython",
    "version": 3
   },
   "file_extension": ".py",
   "mimetype": "text/x-python",
   "name": "python",
   "nbconvert_exporter": "python",
   "pygments_lexer": "ipython3",
   "version": "3.8.5"
  }
 },
 "nbformat": 4,
 "nbformat_minor": 4
}
